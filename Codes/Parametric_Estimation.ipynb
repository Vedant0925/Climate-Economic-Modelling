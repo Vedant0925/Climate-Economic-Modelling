{
  "nbformat": 4,
  "nbformat_minor": 0,
  "metadata": {
    "colab": {
      "provenance": []
    },
    "kernelspec": {
      "name": "python3",
      "display_name": "Python 3"
    },
    "language_info": {
      "name": "python"
    }
  },
  "cells": [
    {
      "cell_type": "code",
      "source": [
        "import pandas as pd\n",
        "\n",
        "co2_data = pd.read_csv('owid-co2-data.csv')\n",
        "temperature_data = pd.read_csv('GLB.Ts+dSST.csv')\n",
        "natural_disasters_data = pd.read_csv('number-of-natural-disaster-events.csv')\n",
        "gdp_growth_data = pd.read_csv('real-gdp-growth.csv')\n"
      ],
      "metadata": {
        "id": "RbGQ3wdjJjGl"
      },
      "execution_count": null,
      "outputs": []
    },
    {
      "cell_type": "code",
      "source": [
        "print(co2_data.columns)\n",
        "print(temperature_data.columns)\n",
        "print(natural_disasters_data.columns)\n",
        "print(gdp_growth_data.columns)"
      ],
      "metadata": {
        "colab": {
          "base_uri": "https://localhost:8080/"
        },
        "id": "RmpfV133K1dd",
        "outputId": "1d4ee40b-7044-4e71-db64-fa42567bc5b5"
      },
      "execution_count": null,
      "outputs": [
        {
          "output_type": "stream",
          "name": "stdout",
          "text": [
            "Index(['country', 'year', 'iso_code', 'population', 'gdp', 'cement_co2',\n",
            "       'cement_co2_per_capita', 'co2', 'co2_growth_abs', 'co2_growth_prct',\n",
            "       'co2_including_luc', 'co2_including_luc_growth_abs',\n",
            "       'co2_including_luc_growth_prct', 'co2_including_luc_per_capita',\n",
            "       'co2_including_luc_per_gdp', 'co2_including_luc_per_unit_energy',\n",
            "       'co2_per_capita', 'co2_per_gdp', 'co2_per_unit_energy', 'coal_co2',\n",
            "       'coal_co2_per_capita', 'consumption_co2', 'consumption_co2_per_capita',\n",
            "       'consumption_co2_per_gdp', 'cumulative_cement_co2', 'cumulative_co2',\n",
            "       'cumulative_co2_including_luc', 'cumulative_coal_co2',\n",
            "       'cumulative_flaring_co2', 'cumulative_gas_co2', 'cumulative_luc_co2',\n",
            "       'cumulative_oil_co2', 'cumulative_other_co2', 'energy_per_capita',\n",
            "       'energy_per_gdp', 'flaring_co2', 'flaring_co2_per_capita', 'gas_co2',\n",
            "       'gas_co2_per_capita', 'ghg_excluding_lucf_per_capita', 'ghg_per_capita',\n",
            "       'land_use_change_co2', 'land_use_change_co2_per_capita', 'methane',\n",
            "       'methane_per_capita', 'nitrous_oxide', 'nitrous_oxide_per_capita',\n",
            "       'oil_co2', 'oil_co2_per_capita', 'other_co2_per_capita',\n",
            "       'other_industry_co2', 'primary_energy_consumption',\n",
            "       'share_global_cement_co2', 'share_global_co2',\n",
            "       'share_global_co2_including_luc', 'share_global_coal_co2',\n",
            "       'share_global_cumulative_cement_co2', 'share_global_cumulative_co2',\n",
            "       'share_global_cumulative_co2_including_luc',\n",
            "       'share_global_cumulative_coal_co2',\n",
            "       'share_global_cumulative_flaring_co2',\n",
            "       'share_global_cumulative_gas_co2', 'share_global_cumulative_luc_co2',\n",
            "       'share_global_cumulative_oil_co2', 'share_global_cumulative_other_co2',\n",
            "       'share_global_flaring_co2', 'share_global_gas_co2',\n",
            "       'share_global_luc_co2', 'share_global_oil_co2',\n",
            "       'share_global_other_co2', 'share_of_temperature_change_from_ghg',\n",
            "       'temperature_change_from_ch4', 'temperature_change_from_co2',\n",
            "       'temperature_change_from_ghg', 'temperature_change_from_n2o',\n",
            "       'total_ghg', 'total_ghg_excluding_lucf', 'trade_co2',\n",
            "       'trade_co2_share'],\n",
            "      dtype='object')\n",
            "Index(['Land-Ocean: Global Means'], dtype='object')\n",
            "Index(['Entity', 'Code', 'Year', 'Number of reported natural disasters'], dtype='object')\n",
            "Index(['Entity', 'Code', 'Year',\n",
            "       'Gross domestic product, constant prices - Percent change'],\n",
            "      dtype='object')\n"
          ]
        }
      ]
    },
    {
      "cell_type": "code",
      "source": [
        "import pandas as pd\n",
        "from google.colab import files\n",
        "\n",
        "\n",
        "co2_df = pd.read_csv('owid-co2-data.csv')\n",
        "temp_df = pd.read_csv('GLB.Ts+dSST.csv', usecols=lambda column: column not in ['Land-Ocean: Global Means'])\n",
        "disasters_df = pd.read_csv('number-of-natural-disaster-events.csv')\n",
        "gdp_df = pd.read_csv('real-gdp-growth.csv')\n",
        "\n",
        "\n",
        "\n",
        "gdp_df.rename(columns={'Entity': 'country', 'Year': 'year'}, inplace=True)\n",
        "disasters_df.rename(columns={'Entity': 'country', 'Year': 'year'}, inplace=True)\n",
        "temp_df.rename(columns={'Year': 'year'}, inplace=True)\n",
        "\n",
        "print(temp_df.columns)\n",
        "merged_df = pd.merge(gdp_df, co2_df, on=['country', 'year'], how='outer')\n",
        "merged_df = pd.merge(merged_df, disasters_df, on=['country', 'year'], how='outer')\n",
        "\n",
        "merged_df.fillna(merged_df.mean(), inplace=True)\n",
        "\n",
        "print(merged_df.head())\n",
        "merged_df.to_csv('merged_dataset.csv', index=False)\n",
        "files.download('merged_dataset.csv')"
      ],
      "metadata": {
        "colab": {
          "base_uri": "https://localhost:8080/",
          "height": 984
        },
        "id": "j8hLvaoaBiW0",
        "outputId": "18106b4b-e3c8-45d5-b856-98393041dd91"
      },
      "execution_count": 7,
      "outputs": [
        {
          "output_type": "stream",
          "name": "stdout",
          "text": [
            "Index([], dtype='object')\n"
          ]
        },
        {
          "output_type": "stream",
          "name": "stderr",
          "text": [
            "<ipython-input-7-c6ee762fa1ee>:30: FutureWarning: The default value of numeric_only in DataFrame.mean is deprecated. In a future version, it will default to False. In addition, specifying 'numeric_only=None' is deprecated. Select only valid columns or specify the value of numeric_only to silence this warning.\n",
            "  merged_df.fillna(merged_df.mean(), inplace=True)\n"
          ]
        },
        {
          "output_type": "stream",
          "name": "stdout",
          "text": [
            "       country Code_x  year  \\\n",
            "0  Afghanistan    AFG  2003   \n",
            "1  Afghanistan    AFG  2004   \n",
            "2  Afghanistan    AFG  2005   \n",
            "3  Afghanistan    AFG  2006   \n",
            "4  Afghanistan    AFG  2007   \n",
            "\n",
            "   Gross domestic product, constant prices - Percent change iso_code  \\\n",
            "0                                              8.692             AFG   \n",
            "1                                              0.671             AFG   \n",
            "2                                             11.830             AFG   \n",
            "3                                              5.361             AFG   \n",
            "4                                             13.340             AFG   \n",
            "\n",
            "   population           gdp  cement_co2  cement_co2_per_capita    co2  ...  \\\n",
            "0  22645136.0  2.107434e+10       0.010                    0.0  1.560  ...   \n",
            "1  23553554.0  2.233257e+10       0.010                    0.0  1.237  ...   \n",
            "2  24411196.0  2.539769e+10       0.006                    0.0  1.890  ...   \n",
            "3  25442946.0  2.870440e+10       0.012                    0.0  2.159  ...   \n",
            "4  25903306.0  3.450753e+10       0.012                    0.0  2.800  ...   \n",
            "\n",
            "   temperature_change_from_ch4  temperature_change_from_co2  \\\n",
            "0                          0.0                          0.0   \n",
            "1                          0.0                          0.0   \n",
            "2                          0.0                          0.0   \n",
            "3                          0.0                          0.0   \n",
            "4                          0.0                          0.0   \n",
            "\n",
            "   temperature_change_from_ghg  temperature_change_from_n2o  total_ghg  \\\n",
            "0                        0.001                          0.0      16.08   \n",
            "1                        0.001                          0.0      15.69   \n",
            "2                        0.001                          0.0      16.76   \n",
            "3                        0.001                          0.0      17.39   \n",
            "4                        0.001                          0.0      18.34   \n",
            "\n",
            "   total_ghg_excluding_lucf  trade_co2  trade_co2_share  Code_y  \\\n",
            "0                     15.96  -7.518768        20.623119     NaN   \n",
            "1                     15.57  -7.518768        20.623119     NaN   \n",
            "2                     16.64  -7.518768        20.623119     NaN   \n",
            "3                     17.26  -7.518768        20.623119     NaN   \n",
            "4                     18.22  -7.518768        20.623119     NaN   \n",
            "\n",
            "   Number of reported natural disasters  \n",
            "0                             36.680507  \n",
            "1                             36.680507  \n",
            "2                             36.680507  \n",
            "3                             36.680507  \n",
            "4                             36.680507  \n",
            "\n",
            "[5 rows x 83 columns]\n"
          ]
        },
        {
          "output_type": "display_data",
          "data": {
            "text/plain": [
              "<IPython.core.display.Javascript object>"
            ],
            "application/javascript": [
              "\n",
              "    async function download(id, filename, size) {\n",
              "      if (!google.colab.kernel.accessAllowed) {\n",
              "        return;\n",
              "      }\n",
              "      const div = document.createElement('div');\n",
              "      const label = document.createElement('label');\n",
              "      label.textContent = `Downloading \"${filename}\": `;\n",
              "      div.appendChild(label);\n",
              "      const progress = document.createElement('progress');\n",
              "      progress.max = size;\n",
              "      div.appendChild(progress);\n",
              "      document.body.appendChild(div);\n",
              "\n",
              "      const buffers = [];\n",
              "      let downloaded = 0;\n",
              "\n",
              "      const channel = await google.colab.kernel.comms.open(id);\n",
              "      // Send a message to notify the kernel that we're ready.\n",
              "      channel.send({})\n",
              "\n",
              "      for await (const message of channel.messages) {\n",
              "        // Send a message to notify the kernel that we're ready.\n",
              "        channel.send({})\n",
              "        if (message.buffers) {\n",
              "          for (const buffer of message.buffers) {\n",
              "            buffers.push(buffer);\n",
              "            downloaded += buffer.byteLength;\n",
              "            progress.value = downloaded;\n",
              "          }\n",
              "        }\n",
              "      }\n",
              "      const blob = new Blob(buffers, {type: 'application/binary'});\n",
              "      const a = document.createElement('a');\n",
              "      a.href = window.URL.createObjectURL(blob);\n",
              "      a.download = filename;\n",
              "      div.appendChild(a);\n",
              "      a.click();\n",
              "      div.remove();\n",
              "    }\n",
              "  "
            ]
          },
          "metadata": {}
        },
        {
          "output_type": "display_data",
          "data": {
            "text/plain": [
              "<IPython.core.display.Javascript object>"
            ],
            "application/javascript": [
              "download(\"download_37d65bae-3ccc-4dcb-bf6d-66b755123a6e\", \"merged_dataset.csv\", 58052253)"
            ]
          },
          "metadata": {}
        }
      ]
    },
    {
      "cell_type": "code",
      "source": [
        "!pip install pandas statsmodels"
      ],
      "metadata": {
        "colab": {
          "base_uri": "https://localhost:8080/"
        },
        "id": "tD_7x0aVHMjz",
        "outputId": "4faaa783-bc99-4b86-a43b-f49cc2cce165"
      },
      "execution_count": 8,
      "outputs": [
        {
          "output_type": "stream",
          "name": "stdout",
          "text": [
            "Requirement already satisfied: pandas in /usr/local/lib/python3.10/dist-packages (1.5.3)\n",
            "Requirement already satisfied: statsmodels in /usr/local/lib/python3.10/dist-packages (0.14.0)\n",
            "Requirement already satisfied: python-dateutil>=2.8.1 in /usr/local/lib/python3.10/dist-packages (from pandas) (2.8.2)\n",
            "Requirement already satisfied: pytz>=2020.1 in /usr/local/lib/python3.10/dist-packages (from pandas) (2023.3.post1)\n",
            "Requirement already satisfied: numpy>=1.21.0 in /usr/local/lib/python3.10/dist-packages (from pandas) (1.23.5)\n",
            "Requirement already satisfied: scipy!=1.9.2,>=1.4 in /usr/local/lib/python3.10/dist-packages (from statsmodels) (1.11.3)\n",
            "Requirement already satisfied: patsy>=0.5.2 in /usr/local/lib/python3.10/dist-packages (from statsmodels) (0.5.3)\n",
            "Requirement already satisfied: packaging>=21.3 in /usr/local/lib/python3.10/dist-packages (from statsmodels) (23.2)\n",
            "Requirement already satisfied: six in /usr/local/lib/python3.10/dist-packages (from patsy>=0.5.2->statsmodels) (1.16.0)\n"
          ]
        }
      ]
    },
    {
      "cell_type": "code",
      "source": [
        "import pandas as pd\n",
        "import statsmodels.api as sm\n",
        "from google.colab import files\n",
        "\n",
        "df = pd.read_csv('merged_dataset.csv')\n",
        "\n",
        "X = df[['Gross domestic product, constant prices - Percent change', 'population','energy_per_gdp']]\n",
        "X = sm.add_constant(X)\n",
        "\n",
        "y = df['total_ghg']\n",
        "\n",
        "model = sm.OLS(y, X).fit()\n",
        "residuals = model.resid\n",
        "df['Residuals'] = residuals\n",
        "\n",
        "print(df['Residuals'].head())\n",
        "\n",
        "print(model.summary())\n"
      ],
      "metadata": {
        "colab": {
          "base_uri": "https://localhost:8080/"
        },
        "id": "-BVrNcZ4HTji",
        "outputId": "f527cecd-040a-4cd4-c15a-51fb58ee467d"
      },
      "execution_count": 16,
      "outputs": [
        {
          "output_type": "stream",
          "name": "stdout",
          "text": [
            "0   -611.508278\n",
            "1   -624.832976\n",
            "2   -612.064527\n",
            "3   -624.170283\n",
            "4   -613.783629\n",
            "Name: Residuals, dtype: float64\n",
            "                            OLS Regression Results                            \n",
            "==============================================================================\n",
            "Dep. Variable:              total_ghg   R-squared:                       0.506\n",
            "Model:                            OLS   Adj. R-squared:                  0.506\n",
            "Method:                 Least Squares   F-statistic:                 1.806e+04\n",
            "Date:                Mon, 27 Nov 2023   Prob (F-statistic):               0.00\n",
            "Time:                        18:51:07   Log-Likelihood:            -4.3347e+05\n",
            "No. Observations:               52873   AIC:                         8.669e+05\n",
            "Df Residuals:                   52869   BIC:                         8.670e+05\n",
            "Df Model:                           3                                         \n",
            "Covariance Type:            nonrobust                                         \n",
            "============================================================================================================================\n",
            "                                                               coef    std err          t      P>|t|      [0.025      0.975]\n",
            "----------------------------------------------------------------------------------------------------------------------------\n",
            "const                                                      561.2188     12.718     44.128      0.000     536.291     586.146\n",
            "Gross domestic product, constant prices - Percent change    -1.3533      1.577     -0.858      0.391      -4.444       1.737\n",
            "population                                                3.176e-06   1.36e-08    232.737      0.000    3.15e-06     3.2e-06\n",
            "energy_per_gdp                                              25.1618      5.848      4.302      0.000      13.699      36.625\n",
            "==============================================================================\n",
            "Omnibus:                    60282.653   Durbin-Watson:                   0.167\n",
            "Prob(Omnibus):                  0.000   Jarque-Bera (JB):        118218770.066\n",
            "Skew:                           4.897   Prob(JB):                         0.00\n",
            "Kurtosis:                     234.443   Cond. No.                     1.03e+09\n",
            "==============================================================================\n",
            "\n",
            "Notes:\n",
            "[1] Standard Errors assume that the covariance matrix of the errors is correctly specified.\n",
            "[2] The condition number is large, 1.03e+09. This might indicate that there are\n",
            "strong multicollinearity or other numerical problems.\n"
          ]
        },
        {
          "output_type": "stream",
          "name": "stderr",
          "text": [
            "<ipython-input-16-6cf137d0014a>:10: DtypeWarning: Columns (1) have mixed types. Specify dtype option on import or set low_memory=False.\n",
            "  df = pd.read_csv('merged_dataset.csv')\n"
          ]
        }
      ]
    },
    {
      "cell_type": "code",
      "source": [
        "sum_of_residuals = df['Residuals'].sum()\n",
        "\n",
        "print(\"Sum of Residuals:\", sum_of_residuals)"
      ],
      "metadata": {
        "colab": {
          "base_uri": "https://localhost:8080/"
        },
        "id": "HkLT-VeSIxmZ",
        "outputId": "28c9696d-209d-47e6-8f6f-17d49bcf471a"
      },
      "execution_count": 17,
      "outputs": [
        {
          "output_type": "stream",
          "name": "stdout",
          "text": [
            "Sum of Residuals: 0.012347820797003806\n"
          ]
        }
      ]
    },
    {
      "cell_type": "code",
      "source": [
        "print(len(residuals))"
      ],
      "metadata": {
        "colab": {
          "base_uri": "https://localhost:8080/"
        },
        "id": "hA2-yV-nI1M0",
        "outputId": "346d7325-c49e-4da0-bebc-5201323f4ac9"
      },
      "execution_count": 19,
      "outputs": [
        {
          "output_type": "stream",
          "name": "stdout",
          "text": [
            "52873\n"
          ]
        }
      ]
    },
    {
      "cell_type": "code",
      "source": [
        "import pandas as pd\n",
        "import statsmodels.api as sm\n",
        "\n",
        "df = pd.read_csv('merged_dataset.csv')\n",
        "\n",
        "df['Temp_t-1'] = df['temperature_change_from_co2'].shift(1)\n",
        "\n",
        "df['Temp_t-1'].fillna(method='bfill', inplace=True)\n",
        "\n",
        "\n",
        "df['total_ghg'].fillna(df['total_ghg'].mean(), inplace=True)\n",
        "\n",
        "X = df[['total_ghg', 'Temp_t-1']]\n",
        "X = sm.add_constant(X)\n",
        "\n",
        "y = df['temperature_change_from_ghg']\n",
        "\n",
        "model = sm.OLS(y, X, missing='drop').fit()\n",
        "\n",
        "print(model.summary())\n"
      ],
      "metadata": {
        "colab": {
          "base_uri": "https://localhost:8080/"
        },
        "id": "fwdbbLybnvAT",
        "outputId": "d79e3290-b4e8-46b8-93ea-f60ed456c5cd"
      },
      "execution_count": 16,
      "outputs": [
        {
          "output_type": "stream",
          "name": "stdout",
          "text": [
            "                                 OLS Regression Results                                \n",
            "=======================================================================================\n",
            "Dep. Variable:     temperature_change_from_ghg   R-squared:                       0.960\n",
            "Model:                                     OLS   Adj. R-squared:                  0.960\n",
            "Method:                          Least Squares   F-statistic:                 6.282e+05\n",
            "Date:                         Tue, 28 Nov 2023   Prob (F-statistic):               0.00\n",
            "Time:                                 06:34:23   Log-Likelihood:             1.6738e+05\n",
            "No. Observations:                        52873   AIC:                        -3.347e+05\n",
            "Df Residuals:                            52870   BIC:                        -3.347e+05\n",
            "Df Model:                                    2                                         \n",
            "Covariance Type:                     nonrobust                                         \n",
            "==============================================================================\n",
            "                 coef    std err          t      P>|t|      [0.025      0.975]\n",
            "------------------------------------------------------------------------------\n",
            "const         -0.0020   5.48e-05    -36.970      0.000      -0.002      -0.002\n",
            "total_ghg   3.878e-06      5e-08     77.557      0.000    3.78e-06    3.98e-06\n",
            "Temp_t-1       1.3112      0.002    738.723      0.000       1.308       1.315\n",
            "==============================================================================\n",
            "Omnibus:                   186784.973   Durbin-Watson:                   1.661\n",
            "Prob(Omnibus):                  0.000   Jarque-Bera (JB):     163692985724.640\n",
            "Skew:                         -69.536   Prob(JB):                         0.00\n",
            "Kurtosis:                    8621.807   Cond. No.                     5.92e+04\n",
            "==============================================================================\n",
            "\n",
            "Notes:\n",
            "[1] Standard Errors assume that the covariance matrix of the errors is correctly specified.\n",
            "[2] The condition number is large, 5.92e+04. This might indicate that there are\n",
            "strong multicollinearity or other numerical problems.\n"
          ]
        },
        {
          "output_type": "stream",
          "name": "stderr",
          "text": [
            "<ipython-input-16-d641ff4d3b02>:5: DtypeWarning: Columns (1) have mixed types. Specify dtype option on import or set low_memory=False.\n",
            "  df = pd.read_csv('merged_dataset.csv')\n"
          ]
        }
      ]
    },
    {
      "cell_type": "code",
      "source": [
        "import pandas as pd\n",
        "import statsmodels.api as sm\n",
        "\n",
        "\n",
        "data = pd.read_csv('merged_dataset.csv')\n",
        "\n",
        "\n",
        "X = data['temperature_change_from_co2']\n",
        "y = data['land_use_change_co2_per_capita']\n",
        "\n",
        "X = sm.add_constant(X)\n",
        "\n",
        "X['Temp_squared'] = X['temperature_change_from_co2'] ** 2\n",
        "\n",
        "model = sm.OLS(y, X).fit()\n",
        "\n",
        "print(model.params)\n"
      ],
      "metadata": {
        "colab": {
          "base_uri": "https://localhost:8080/"
        },
        "id": "7Jbo1zRWzkSi",
        "outputId": "bf3d6459-a0e1-4425-91b5-190febc52fa8"
      },
      "execution_count": 20,
      "outputs": [
        {
          "output_type": "stream",
          "name": "stdout",
          "text": [
            "const                           4.186534\n",
            "temperature_change_from_co2   -15.170869\n",
            "Temp_squared                   13.428534\n",
            "dtype: float64\n"
          ]
        },
        {
          "output_type": "stream",
          "name": "stderr",
          "text": [
            "<ipython-input-20-32ce7ef0fe44>:5: DtypeWarning: Columns (1) have mixed types. Specify dtype option on import or set low_memory=False.\n",
            "  data = pd.read_csv('merged_dataset.csv')\n"
          ]
        }
      ]
    },
    {
      "cell_type": "code",
      "source": [
        "import pandas as pd\n",
        "import statsmodels.api as sm\n",
        "\n",
        "\n",
        "data = pd.read_csv('merged_dataset.csv')\n",
        "\n",
        "E_t = data['total_ghg']\n",
        "E_target =  # Defining the emissions target level here\n",
        "C_Mt = data['MitigationCost']\n",
        "\n",
        "E_diff = E_t - E_target\n",
        "\n",
        "E_diff = sm.add_constant(E_diff)\n",
        "\n",
        "model = sm.OLS(C_Mt, E_diff).fit()\n",
        "\n",
        "print('Estimated theta value:', model.params[1])\n",
        "\n"
      ],
      "metadata": {
        "id": "tXj45tD07z39"
      },
      "execution_count": null,
      "outputs": []
    }
  ]
}